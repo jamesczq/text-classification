{
 "cells": [
  {
   "cell_type": "code",
   "execution_count": 1,
   "id": "4f809a8d",
   "metadata": {},
   "outputs": [],
   "source": [
    "import numpy as np\n",
    "import pandas as pd\n",
    "import torch\n",
    "import transformers\n",
    "\n",
    "from src import custom_dataset, custom_label, custom_model"
   ]
  },
  {
   "cell_type": "code",
   "execution_count": 2,
   "id": "eb4be4da",
   "metadata": {},
   "outputs": [],
   "source": [
    "BERT = 'bert-base-cased'\n",
    "BATCH_SIZE = 8\n",
    "EPOCHS = 5\n",
    "LEARNING_RATE = 1e-6\n",
    "MAX_LENGTH = 512\n",
    "\n",
    "TEXT_COL = 'text'\n",
    "LABEL_COL = 'category'"
   ]
  },
  {
   "cell_type": "code",
   "execution_count": 3,
   "id": "642e4091",
   "metadata": {},
   "outputs": [],
   "source": [
    "datapath = f'data/bbc-text.csv'\n",
    "df = pd.read_csv(datapath)"
   ]
  },
  {
   "cell_type": "code",
   "execution_count": 4,
   "id": "362d01cc",
   "metadata": {},
   "outputs": [],
   "source": [
    "label_encoder = custom_label.CustomLabelEncoder(df[LABEL_COL])"
   ]
  },
  {
   "cell_type": "code",
   "execution_count": 5,
   "id": "76069084",
   "metadata": {},
   "outputs": [],
   "source": [
    "df = custom_label.encode_labels(label_encoder=label_encoder, df=df, label_col=LABEL_COL)"
   ]
  },
  {
   "cell_type": "code",
   "execution_count": 6,
   "id": "7bae0747",
   "metadata": {},
   "outputs": [
    {
     "data": {
      "text/plain": [
       "(5, {0: 'business', 1: 'entertainment', 2: 'politics', 3: 'sport', 4: 'tech'})"
      ]
     },
     "execution_count": 6,
     "metadata": {},
     "output_type": "execute_result"
    }
   ],
   "source": [
    "n_classes = label_encoder.n_classes\n",
    "n_classes, label_encoder.get_int2label_dict()"
   ]
  },
  {
   "cell_type": "markdown",
   "id": "d7f77ac9",
   "metadata": {},
   "source": [
    "### Brief look at a Bert model"
   ]
  },
  {
   "cell_type": "code",
   "execution_count": 7,
   "id": "44c98215",
   "metadata": {},
   "outputs": [],
   "source": [
    "tokenizer = transformers.BertTokenizer.from_pretrained(BERT)"
   ]
  },
  {
   "cell_type": "code",
   "execution_count": 8,
   "id": "3d0f600b",
   "metadata": {},
   "outputs": [
    {
     "name": "stderr",
     "output_type": "stream",
     "text": [
      "Some weights of the model checkpoint at bert-base-cased were not used when initializing BertModel: ['cls.predictions.transform.dense.bias', 'cls.predictions.transform.LayerNorm.weight', 'cls.seq_relationship.weight', 'cls.predictions.transform.dense.weight', 'cls.seq_relationship.bias', 'cls.predictions.transform.LayerNorm.bias', 'cls.predictions.bias', 'cls.predictions.decoder.weight']\n",
      "- This IS expected if you are initializing BertModel from the checkpoint of a model trained on another task or with another architecture (e.g. initializing a BertForSequenceClassification model from a BertForPreTraining model).\n",
      "- This IS NOT expected if you are initializing BertModel from the checkpoint of a model that you expect to be exactly identical (initializing a BertForSequenceClassification model from a BertForSequenceClassification model).\n"
     ]
    }
   ],
   "source": [
    "model = transformers.BertModel.from_pretrained(BERT)"
   ]
  },
  {
   "cell_type": "code",
   "execution_count": 9,
   "id": "56032929",
   "metadata": {},
   "outputs": [
    {
     "data": {
      "text/plain": [
       "'Each token vector is of 768-dim'"
      ]
     },
     "execution_count": 9,
     "metadata": {},
     "output_type": "execute_result"
    }
   ],
   "source": [
    "f\"Each token vector is of {model.embeddings.word_embeddings.embedding_dim}-dim\""
   ]
  },
  {
   "cell_type": "markdown",
   "id": "32b0b9e3",
   "metadata": {},
   "source": [
    "### Train, validate, test datasets"
   ]
  },
  {
   "cell_type": "code",
   "execution_count": 10,
   "id": "a894cdc2",
   "metadata": {},
   "outputs": [
    {
     "data": {
      "text/plain": [
       "(1780, 222, 223)"
      ]
     },
     "execution_count": 10,
     "metadata": {},
     "output_type": "execute_result"
    }
   ],
   "source": [
    "np.random.seed(112)\n",
    "df_train, df_val, df_test = np.split(\n",
    "    df.sample(frac=1, random_state=42), [int(.8*len(df)), int(.9*len(df))])\n",
    "\n",
    "len(df_train),len(df_val), len(df_test)"
   ]
  },
  {
   "cell_type": "code",
   "execution_count": 11,
   "id": "5549f267",
   "metadata": {},
   "outputs": [
    {
     "data": {
      "text/plain": [
       "(1780, 222)"
      ]
     },
     "execution_count": 11,
     "metadata": {},
     "output_type": "execute_result"
    }
   ],
   "source": [
    "train_dataset = custom_dataset.CustomDataset(\n",
    "    tokenizer=tokenizer, \n",
    "    df=df_train,\n",
    "    text_col=TEXT_COL,\n",
    "    label_col=LABEL_COL,\n",
    "    max_length=MAX_LENGTH)\n",
    "\n",
    "val_dataset = custom_dataset.CustomDataset(\n",
    "    tokenizer=tokenizer, \n",
    "    df=df_val,\n",
    "    text_col=TEXT_COL,\n",
    "    label_col=LABEL_COL,\n",
    "    max_length=MAX_LENGTH)\n",
    "\n",
    "len(train_dataset), len(val_dataset)"
   ]
  },
  {
   "cell_type": "code",
   "execution_count": 12,
   "id": "0a321396",
   "metadata": {},
   "outputs": [
    {
     "name": "stderr",
     "output_type": "stream",
     "text": [
      "Some weights of the model checkpoint at bert-base-cased were not used when initializing BertModel: ['cls.predictions.transform.dense.bias', 'cls.predictions.transform.LayerNorm.weight', 'cls.seq_relationship.weight', 'cls.predictions.transform.dense.weight', 'cls.seq_relationship.bias', 'cls.predictions.transform.LayerNorm.bias', 'cls.predictions.bias', 'cls.predictions.decoder.weight']\n",
      "- This IS expected if you are initializing BertModel from the checkpoint of a model trained on another task or with another architecture (e.g. initializing a BertForSequenceClassification model from a BertForPreTraining model).\n",
      "- This IS NOT expected if you are initializing BertModel from the checkpoint of a model that you expect to be exactly identical (initializing a BertForSequenceClassification model from a BertForSequenceClassification model).\n"
     ]
    }
   ],
   "source": [
    "model = custom_model.BertClassifier(n_classes=n_classes, bert_model_name=BERT)"
   ]
  },
  {
   "cell_type": "code",
   "execution_count": 13,
   "id": "2351c897",
   "metadata": {
    "scrolled": false
   },
   "outputs": [
    {
     "name": "stderr",
     "output_type": "stream",
     "text": [
      "100%|████████████████████████████████████████████████████████████████████████████████| 223/223 [01:15<00:00,  2.95it/s]\n"
     ]
    },
    {
     "name": "stdout",
     "output_type": "stream",
     "text": [
      "Epoch 1 | Train Loss: 0.1966 | Val Loss: 0.1793\n"
     ]
    },
    {
     "name": "stderr",
     "output_type": "stream",
     "text": [
      "100%|████████████████████████████████████████████████████████████████████████████████| 223/223 [01:14<00:00,  2.99it/s]\n"
     ]
    },
    {
     "name": "stdout",
     "output_type": "stream",
     "text": [
      "Epoch 2 | Train Loss: 0.1725 | Val Loss: 0.1520\n"
     ]
    },
    {
     "name": "stderr",
     "output_type": "stream",
     "text": [
      "100%|████████████████████████████████████████████████████████████████████████████████| 223/223 [01:14<00:00,  3.00it/s]\n"
     ]
    },
    {
     "name": "stdout",
     "output_type": "stream",
     "text": [
      "Epoch 3 | Train Loss: 0.1268 | Val Loss: 0.0982\n"
     ]
    },
    {
     "name": "stderr",
     "output_type": "stream",
     "text": [
      "100%|████████████████████████████████████████████████████████████████████████████████| 223/223 [01:14<00:00,  2.99it/s]\n"
     ]
    },
    {
     "name": "stdout",
     "output_type": "stream",
     "text": [
      "Epoch 4 | Train Loss: 0.0782 | Val Loss: 0.0603\n"
     ]
    },
    {
     "name": "stderr",
     "output_type": "stream",
     "text": [
      "100%|████████████████████████████████████████████████████████████████████████████████| 223/223 [01:13<00:00,  3.02it/s]\n"
     ]
    },
    {
     "name": "stdout",
     "output_type": "stream",
     "text": [
      "Epoch 5 | Train Loss: 0.0511 | Val Loss: 0.0405\n"
     ]
    }
   ],
   "source": [
    "model = custom_model.train(\n",
    "    model=model, \n",
    "    train_dataset=train_dataset, \n",
    "    val_dataset=val_dataset,\n",
    "    batch_size=BATCH_SIZE,\n",
    "    learning_rate=LEARNING_RATE,\n",
    "    epochs=EPOCHS\n",
    ")"
   ]
  },
  {
   "cell_type": "code",
   "execution_count": 14,
   "id": "a4f0fc3f",
   "metadata": {},
   "outputs": [],
   "source": [
    "test_dataset = custom_dataset.CustomDataset(\n",
    "    tokenizer=tokenizer, \n",
    "    df=df_test,\n",
    "    text_col=TEXT_COL,\n",
    "    label_col=LABEL_COL,\n",
    "    max_length=MAX_LENGTH)"
   ]
  },
  {
   "cell_type": "code",
   "execution_count": 20,
   "id": "af705c35",
   "metadata": {},
   "outputs": [],
   "source": [
    "import numpy as np\n",
    "\n",
    "def predict(model, test_dataset):\n",
    "    test_dataloader = torch.utils.data.DataLoader(test_dataset)\n",
    "    \n",
    "    use_cuda = torch.cuda.is_available()\n",
    "    device = torch.device(\"cuda\" if use_cuda else \"cpu\")\n",
    "\n",
    "    with torch.no_grad():\n",
    "        predictions = []\n",
    "        for i, (X,Y) in enumerate(test_dataloader):\n",
    "            Y = Y.to(device)\n",
    "            mask = X['attention_mask'].to(device)\n",
    "            input_ids = X['input_ids'].squeeze(1).to(device)\n",
    "            output = model(input_ids, mask)\n",
    "            predictions.append(output)\n",
    "    \n",
    "    predictions = torch.cat(predictions, axis=0)\n",
    "    predictions = predictions.cpu().numpy()\n",
    "    predictions = np.argmax(predictions, axis=1)\n",
    "    \n",
    "    return predictions"
   ]
  },
  {
   "cell_type": "code",
   "execution_count": 27,
   "id": "7044bbcf",
   "metadata": {},
   "outputs": [],
   "source": [
    "test_pred = predict(model, test_dataset)"
   ]
  },
  {
   "cell_type": "code",
   "execution_count": 28,
   "id": "5329ae36",
   "metadata": {},
   "outputs": [],
   "source": [
    "test_metrics = custom_model.compute_metrics(df_test[LABEL_COL], pred)"
   ]
  },
  {
   "cell_type": "code",
   "execution_count": 29,
   "id": "a38c12d9",
   "metadata": {},
   "outputs": [
    {
     "data": {
      "text/plain": [
       "{'accuracy': 0.9820627802690582, 'f1': 0.9818536446656315}"
      ]
     },
     "execution_count": 29,
     "metadata": {},
     "output_type": "execute_result"
    }
   ],
   "source": [
    "test_metrics"
   ]
  },
  {
   "cell_type": "code",
   "execution_count": 30,
   "id": "eb33f257",
   "metadata": {},
   "outputs": [
    {
     "data": {
      "text/plain": [
       "{'accuracy': 0.9792134831460674, 'f1': 0.9791825981562116}"
      ]
     },
     "execution_count": 30,
     "metadata": {},
     "output_type": "execute_result"
    }
   ],
   "source": [
    "train_pred = predict(model, train_dataset)\n",
    "train_metrics = custom_model.compute_metrics(df_train[LABEL_COL], train_pred)\n",
    "train_metrics"
   ]
  },
  {
   "cell_type": "code",
   "execution_count": 31,
   "id": "40700ca5",
   "metadata": {},
   "outputs": [
    {
     "data": {
      "text/plain": [
       "{'accuracy': 0.9864864864864865, 'f1': 0.9864917259495571}"
      ]
     },
     "execution_count": 31,
     "metadata": {},
     "output_type": "execute_result"
    }
   ],
   "source": [
    "val_pred = predict(model, val_dataset)\n",
    "val_metrics = custom_model.compute_metrics(df_val[LABEL_COL], val_pred)\n",
    "val_metrics"
   ]
  },
  {
   "cell_type": "code",
   "execution_count": null,
   "id": "74255788",
   "metadata": {},
   "outputs": [],
   "source": []
  }
 ],
 "metadata": {
  "kernelspec": {
   "display_name": "Python 3 (ipykernel)",
   "language": "python",
   "name": "python3"
  },
  "language_info": {
   "codemirror_mode": {
    "name": "ipython",
    "version": 3
   },
   "file_extension": ".py",
   "mimetype": "text/x-python",
   "name": "python",
   "nbconvert_exporter": "python",
   "pygments_lexer": "ipython3",
   "version": "3.8.8"
  }
 },
 "nbformat": 4,
 "nbformat_minor": 5
}
