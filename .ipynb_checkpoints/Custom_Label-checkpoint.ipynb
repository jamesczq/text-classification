{
 "cells": [
  {
   "cell_type": "code",
   "execution_count": 1,
   "id": "24a0f1a7",
   "metadata": {},
   "outputs": [],
   "source": [
    "import pandas as pd\n",
    "\n",
    "from sklearn.preprocessing import LabelEncoder"
   ]
  },
  {
   "cell_type": "code",
   "execution_count": 2,
   "id": "9deaac95",
   "metadata": {},
   "outputs": [],
   "source": [
    "class CustomLabelEncoder(LabelEncoder):\n",
    "    def __init__(self, labels):\n",
    "        super(LabelEncoder, self).__init__()\n",
    "        self.fit(labels)\n",
    "        self.n_classes = len(self.classes_)\n",
    "    \n",
    "    def int2label(self, int_array):\n",
    "        return self.inverse_transform(int_array)\n",
    "    \n",
    "    def label2int(self, str_array):\n",
    "        return self.transform(str_array)\n",
    "    \n",
    "    def get_int2label_dict(self):\n",
    "        return {k:v for k,v in zip(range(self.n_classes), self.classes_)}\n",
    "    \n",
    "    def get_label2int_dict(self):\n",
    "        return {k:v for k,v in zip(self.classes_, range(self.n_classes))}"
   ]
  },
  {
   "cell_type": "code",
   "execution_count": 3,
   "id": "e69f1117",
   "metadata": {},
   "outputs": [],
   "source": [
    "def encode_labels(\n",
    "    label_encoder: CustomLabelEncoder, \n",
    "    df: pd.DataFrame, \n",
    "    label_col: str) -> pd.DataFrame:\n",
    "    \"\"\"\n",
    "    Make the label columns into integer labels.\n",
    "    \"\"\"\n",
    "    df[label_col] = label_encoder.label2int(df[label_col])\n",
    "    return df"
   ]
  },
  {
   "cell_type": "code",
   "execution_count": 4,
   "id": "6cb93064",
   "metadata": {},
   "outputs": [],
   "source": [
    "LABEL_COL = 'category'"
   ]
  },
  {
   "cell_type": "code",
   "execution_count": 5,
   "id": "c2808e87",
   "metadata": {},
   "outputs": [
    {
     "data": {
      "text/html": [
       "<div>\n",
       "<style scoped>\n",
       "    .dataframe tbody tr th:only-of-type {\n",
       "        vertical-align: middle;\n",
       "    }\n",
       "\n",
       "    .dataframe tbody tr th {\n",
       "        vertical-align: top;\n",
       "    }\n",
       "\n",
       "    .dataframe thead th {\n",
       "        text-align: right;\n",
       "    }\n",
       "</style>\n",
       "<table border=\"1\" class=\"dataframe\">\n",
       "  <thead>\n",
       "    <tr style=\"text-align: right;\">\n",
       "      <th></th>\n",
       "      <th>category</th>\n",
       "      <th>text</th>\n",
       "    </tr>\n",
       "  </thead>\n",
       "  <tbody>\n",
       "    <tr>\n",
       "      <th>0</th>\n",
       "      <td>tech</td>\n",
       "      <td>tv future in the hands of viewers with home th...</td>\n",
       "    </tr>\n",
       "    <tr>\n",
       "      <th>1</th>\n",
       "      <td>business</td>\n",
       "      <td>worldcom boss  left books alone  former worldc...</td>\n",
       "    </tr>\n",
       "    <tr>\n",
       "      <th>2</th>\n",
       "      <td>sport</td>\n",
       "      <td>tigers wary of farrell  gamble  leicester say ...</td>\n",
       "    </tr>\n",
       "    <tr>\n",
       "      <th>3</th>\n",
       "      <td>sport</td>\n",
       "      <td>yeading face newcastle in fa cup premiership s...</td>\n",
       "    </tr>\n",
       "    <tr>\n",
       "      <th>4</th>\n",
       "      <td>entertainment</td>\n",
       "      <td>ocean s twelve raids box office ocean s twelve...</td>\n",
       "    </tr>\n",
       "  </tbody>\n",
       "</table>\n",
       "</div>"
      ],
      "text/plain": [
       "        category                                               text\n",
       "0           tech  tv future in the hands of viewers with home th...\n",
       "1       business  worldcom boss  left books alone  former worldc...\n",
       "2          sport  tigers wary of farrell  gamble  leicester say ...\n",
       "3          sport  yeading face newcastle in fa cup premiership s...\n",
       "4  entertainment  ocean s twelve raids box office ocean s twelve..."
      ]
     },
     "execution_count": 5,
     "metadata": {},
     "output_type": "execute_result"
    }
   ],
   "source": [
    "df = pd.read_csv('bbc-text.csv')\n",
    "df.head()"
   ]
  },
  {
   "cell_type": "code",
   "execution_count": 6,
   "id": "d5bd4045",
   "metadata": {},
   "outputs": [],
   "source": [
    "label_encoder = CustomLabelEncoder(df[LABEL_COL])"
   ]
  },
  {
   "cell_type": "code",
   "execution_count": 7,
   "id": "3fe1064e",
   "metadata": {},
   "outputs": [
    {
     "data": {
      "text/html": [
       "<div>\n",
       "<style scoped>\n",
       "    .dataframe tbody tr th:only-of-type {\n",
       "        vertical-align: middle;\n",
       "    }\n",
       "\n",
       "    .dataframe tbody tr th {\n",
       "        vertical-align: top;\n",
       "    }\n",
       "\n",
       "    .dataframe thead th {\n",
       "        text-align: right;\n",
       "    }\n",
       "</style>\n",
       "<table border=\"1\" class=\"dataframe\">\n",
       "  <thead>\n",
       "    <tr style=\"text-align: right;\">\n",
       "      <th></th>\n",
       "      <th>category</th>\n",
       "      <th>text</th>\n",
       "    </tr>\n",
       "  </thead>\n",
       "  <tbody>\n",
       "    <tr>\n",
       "      <th>0</th>\n",
       "      <td>4</td>\n",
       "      <td>tv future in the hands of viewers with home th...</td>\n",
       "    </tr>\n",
       "    <tr>\n",
       "      <th>1</th>\n",
       "      <td>0</td>\n",
       "      <td>worldcom boss  left books alone  former worldc...</td>\n",
       "    </tr>\n",
       "    <tr>\n",
       "      <th>2</th>\n",
       "      <td>3</td>\n",
       "      <td>tigers wary of farrell  gamble  leicester say ...</td>\n",
       "    </tr>\n",
       "    <tr>\n",
       "      <th>3</th>\n",
       "      <td>3</td>\n",
       "      <td>yeading face newcastle in fa cup premiership s...</td>\n",
       "    </tr>\n",
       "    <tr>\n",
       "      <th>4</th>\n",
       "      <td>1</td>\n",
       "      <td>ocean s twelve raids box office ocean s twelve...</td>\n",
       "    </tr>\n",
       "  </tbody>\n",
       "</table>\n",
       "</div>"
      ],
      "text/plain": [
       "   category                                               text\n",
       "0         4  tv future in the hands of viewers with home th...\n",
       "1         0  worldcom boss  left books alone  former worldc...\n",
       "2         3  tigers wary of farrell  gamble  leicester say ...\n",
       "3         3  yeading face newcastle in fa cup premiership s...\n",
       "4         1  ocean s twelve raids box office ocean s twelve..."
      ]
     },
     "execution_count": 7,
     "metadata": {},
     "output_type": "execute_result"
    }
   ],
   "source": [
    "df = encode_labels(label_encoder=label_encoder, df=df, label_col=LABEL_COL)\n",
    "df.head()"
   ]
  },
  {
   "cell_type": "code",
   "execution_count": 8,
   "id": "9bae839b",
   "metadata": {},
   "outputs": [
    {
     "data": {
      "text/plain": [
       "5"
      ]
     },
     "execution_count": 8,
     "metadata": {},
     "output_type": "execute_result"
    }
   ],
   "source": [
    "label_encoder.n_classes"
   ]
  },
  {
   "cell_type": "code",
   "execution_count": 9,
   "id": "d2eccd58",
   "metadata": {},
   "outputs": [
    {
     "data": {
      "text/plain": [
       "{0: 'business', 1: 'entertainment', 2: 'politics', 3: 'sport', 4: 'tech'}"
      ]
     },
     "execution_count": 9,
     "metadata": {},
     "output_type": "execute_result"
    }
   ],
   "source": [
    "label_encoder.get_int2label_dict()"
   ]
  },
  {
   "cell_type": "code",
   "execution_count": 10,
   "id": "921aadaa",
   "metadata": {},
   "outputs": [
    {
     "data": {
      "text/plain": [
       "{'business': 0, 'entertainment': 1, 'politics': 2, 'sport': 3, 'tech': 4}"
      ]
     },
     "execution_count": 10,
     "metadata": {},
     "output_type": "execute_result"
    }
   ],
   "source": [
    "label_encoder.get_label2int_dict()"
   ]
  }
 ],
 "metadata": {
  "kernelspec": {
   "display_name": "Python 3 (ipykernel)",
   "language": "python",
   "name": "python3"
  },
  "language_info": {
   "codemirror_mode": {
    "name": "ipython",
    "version": 3
   },
   "file_extension": ".py",
   "mimetype": "text/x-python",
   "name": "python",
   "nbconvert_exporter": "python",
   "pygments_lexer": "ipython3",
   "version": "3.8.8"
  }
 },
 "nbformat": 4,
 "nbformat_minor": 5
}
