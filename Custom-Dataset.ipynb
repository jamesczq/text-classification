{
 "cells": [
  {
   "cell_type": "code",
   "execution_count": 1,
   "id": "ed689a01",
   "metadata": {},
   "outputs": [],
   "source": [
    "import numpy as np\n",
    "import pandas as pd\n",
    "import torch\n",
    "import transformers"
   ]
  },
  {
   "cell_type": "code",
   "execution_count": 2,
   "id": "81a5bd7a",
   "metadata": {},
   "outputs": [],
   "source": [
    "from src import custom_label, custom_dataset"
   ]
  },
  {
   "cell_type": "code",
   "execution_count": 3,
   "id": "1b4630de",
   "metadata": {},
   "outputs": [],
   "source": [
    "BERT = 'bert-base-uncased'\n",
    "\n",
    "BATCH_SIZE = 32\n",
    "MAX_LENGTH = 2**10\n",
    "\n",
    "TEXT_COL = 'text'\n",
    "LABEL_COL = 'category'"
   ]
  },
  {
   "cell_type": "code",
   "execution_count": 4,
   "id": "71e36135",
   "metadata": {},
   "outputs": [
    {
     "data": {
      "text/html": [
       "<div>\n",
       "<style scoped>\n",
       "    .dataframe tbody tr th:only-of-type {\n",
       "        vertical-align: middle;\n",
       "    }\n",
       "\n",
       "    .dataframe tbody tr th {\n",
       "        vertical-align: top;\n",
       "    }\n",
       "\n",
       "    .dataframe thead th {\n",
       "        text-align: right;\n",
       "    }\n",
       "</style>\n",
       "<table border=\"1\" class=\"dataframe\">\n",
       "  <thead>\n",
       "    <tr style=\"text-align: right;\">\n",
       "      <th></th>\n",
       "      <th>category</th>\n",
       "      <th>text</th>\n",
       "    </tr>\n",
       "  </thead>\n",
       "  <tbody>\n",
       "    <tr>\n",
       "      <th>0</th>\n",
       "      <td>tech</td>\n",
       "      <td>tv future in the hands of viewers with home th...</td>\n",
       "    </tr>\n",
       "    <tr>\n",
       "      <th>1</th>\n",
       "      <td>business</td>\n",
       "      <td>worldcom boss  left books alone  former worldc...</td>\n",
       "    </tr>\n",
       "    <tr>\n",
       "      <th>2</th>\n",
       "      <td>sport</td>\n",
       "      <td>tigers wary of farrell  gamble  leicester say ...</td>\n",
       "    </tr>\n",
       "    <tr>\n",
       "      <th>3</th>\n",
       "      <td>sport</td>\n",
       "      <td>yeading face newcastle in fa cup premiership s...</td>\n",
       "    </tr>\n",
       "    <tr>\n",
       "      <th>4</th>\n",
       "      <td>entertainment</td>\n",
       "      <td>ocean s twelve raids box office ocean s twelve...</td>\n",
       "    </tr>\n",
       "  </tbody>\n",
       "</table>\n",
       "</div>"
      ],
      "text/plain": [
       "        category                                               text\n",
       "0           tech  tv future in the hands of viewers with home th...\n",
       "1       business  worldcom boss  left books alone  former worldc...\n",
       "2          sport  tigers wary of farrell  gamble  leicester say ...\n",
       "3          sport  yeading face newcastle in fa cup premiership s...\n",
       "4  entertainment  ocean s twelve raids box office ocean s twelve..."
      ]
     },
     "execution_count": 4,
     "metadata": {},
     "output_type": "execute_result"
    }
   ],
   "source": [
    "df = pd.read_csv('data/bbc-text.csv')\n",
    "df.head()"
   ]
  },
  {
   "cell_type": "code",
   "execution_count": 5,
   "id": "e0212dfe",
   "metadata": {},
   "outputs": [],
   "source": [
    "label_encoder = custom_label.CustomLabelEncoder(df[LABEL_COL])"
   ]
  },
  {
   "cell_type": "code",
   "execution_count": 6,
   "id": "ddbf292c",
   "metadata": {},
   "outputs": [
    {
     "data": {
      "text/html": [
       "<div>\n",
       "<style scoped>\n",
       "    .dataframe tbody tr th:only-of-type {\n",
       "        vertical-align: middle;\n",
       "    }\n",
       "\n",
       "    .dataframe tbody tr th {\n",
       "        vertical-align: top;\n",
       "    }\n",
       "\n",
       "    .dataframe thead th {\n",
       "        text-align: right;\n",
       "    }\n",
       "</style>\n",
       "<table border=\"1\" class=\"dataframe\">\n",
       "  <thead>\n",
       "    <tr style=\"text-align: right;\">\n",
       "      <th></th>\n",
       "      <th>category</th>\n",
       "      <th>text</th>\n",
       "    </tr>\n",
       "  </thead>\n",
       "  <tbody>\n",
       "    <tr>\n",
       "      <th>0</th>\n",
       "      <td>4</td>\n",
       "      <td>tv future in the hands of viewers with home th...</td>\n",
       "    </tr>\n",
       "    <tr>\n",
       "      <th>1</th>\n",
       "      <td>0</td>\n",
       "      <td>worldcom boss  left books alone  former worldc...</td>\n",
       "    </tr>\n",
       "    <tr>\n",
       "      <th>2</th>\n",
       "      <td>3</td>\n",
       "      <td>tigers wary of farrell  gamble  leicester say ...</td>\n",
       "    </tr>\n",
       "    <tr>\n",
       "      <th>3</th>\n",
       "      <td>3</td>\n",
       "      <td>yeading face newcastle in fa cup premiership s...</td>\n",
       "    </tr>\n",
       "    <tr>\n",
       "      <th>4</th>\n",
       "      <td>1</td>\n",
       "      <td>ocean s twelve raids box office ocean s twelve...</td>\n",
       "    </tr>\n",
       "  </tbody>\n",
       "</table>\n",
       "</div>"
      ],
      "text/plain": [
       "   category                                               text\n",
       "0         4  tv future in the hands of viewers with home th...\n",
       "1         0  worldcom boss  left books alone  former worldc...\n",
       "2         3  tigers wary of farrell  gamble  leicester say ...\n",
       "3         3  yeading face newcastle in fa cup premiership s...\n",
       "4         1  ocean s twelve raids box office ocean s twelve..."
      ]
     },
     "execution_count": 6,
     "metadata": {},
     "output_type": "execute_result"
    }
   ],
   "source": [
    "df = custom_label.encode_labels(\n",
    "    label_encoder=label_encoder, \n",
    "    df=df, \n",
    "    label_col=LABEL_COL)\n",
    "df.head()"
   ]
  },
  {
   "cell_type": "markdown",
   "id": "87320193",
   "metadata": {},
   "source": [
    "### Look at tokenization on a single string"
   ]
  },
  {
   "cell_type": "code",
   "execution_count": 7,
   "id": "869ae2f4",
   "metadata": {},
   "outputs": [],
   "source": [
    "tokenizer = transformers.BertTokenizer.from_pretrained(BERT)"
   ]
  },
  {
   "cell_type": "code",
   "execution_count": 8,
   "id": "ecf5f956",
   "metadata": {},
   "outputs": [
    {
     "data": {
      "text/plain": [
       "(dict_keys(['input_ids', 'token_type_ids', 'attention_mask']),\n",
       " {'input_ids': tensor([[ 101, 2694, 2925,  ...,    0,    0,    0]]), 'token_type_ids': tensor([[0, 0, 0,  ..., 0, 0, 0]]), 'attention_mask': tensor([[1, 1, 1,  ..., 0, 0, 0]])},\n",
       " torch.Size([1, 1024]))"
      ]
     },
     "execution_count": 8,
     "metadata": {},
     "output_type": "execute_result"
    }
   ],
   "source": [
    "example_text = df.iloc[0][TEXT_COL]\n",
    "example_output = tokenizer(\n",
    "    example_text, \n",
    "    padding='max_length', \n",
    "    max_length=MAX_LENGTH, \n",
    "    truncation=True, \n",
    "    return_tensors=\"pt\")\n",
    "\n",
    "example_output.keys(), example_output, example_output['input_ids'].shape"
   ]
  },
  {
   "cell_type": "markdown",
   "id": "d768d346",
   "metadata": {},
   "source": [
    "### Look at tokenization of a batch (batches) of strings"
   ]
  },
  {
   "cell_type": "code",
   "execution_count": 9,
   "id": "dd10ddc2",
   "metadata": {},
   "outputs": [
    {
     "data": {
      "text/plain": [
       "(1780, 222, 223)"
      ]
     },
     "execution_count": 9,
     "metadata": {},
     "output_type": "execute_result"
    }
   ],
   "source": [
    "np.random.seed(112)\n",
    "df_train, df_val, df_test = np.split(df.sample(frac=1, random_state=42), [int(.8*len(df)), int(.9*len(df))])\n",
    "\n",
    "len(df_train),len(df_val), len(df_test)"
   ]
  },
  {
   "cell_type": "code",
   "execution_count": 10,
   "id": "22fa8cdd",
   "metadata": {},
   "outputs": [
    {
     "data": {
      "text/plain": [
       "'There will be about 7.0 batches of test data; each batch is of 32 texts.'"
      ]
     },
     "execution_count": 10,
     "metadata": {},
     "output_type": "execute_result"
    }
   ],
   "source": [
    "f\"There will be about {np.ceil(len(df_test)/BATCH_SIZE)} batches of test data; each batch is of {BATCH_SIZE} texts.\""
   ]
  },
  {
   "cell_type": "code",
   "execution_count": 11,
   "id": "0739693b",
   "metadata": {},
   "outputs": [],
   "source": [
    "test_dataset = custom_dataset.CustomDataset(\n",
    "    tokenizer, df_test, TEXT_COL, LABEL_COL, max_length=MAX_LENGTH)\n",
    "\n",
    "test_dataloader = torch.utils.data.DataLoader(\n",
    "    test_dataset, batch_size=BATCH_SIZE, shuffle=True)"
   ]
  },
  {
   "cell_type": "code",
   "execution_count": 12,
   "id": "6c1d8e20",
   "metadata": {},
   "outputs": [
    {
     "data": {
      "text/plain": [
       "(223, 7)"
      ]
     },
     "execution_count": 12,
     "metadata": {},
     "output_type": "execute_result"
    }
   ],
   "source": [
    "len(test_dataset), len(test_dataloader)"
   ]
  },
  {
   "cell_type": "code",
   "execution_count": 13,
   "id": "6d995229",
   "metadata": {
    "scrolled": false
   },
   "outputs": [
    {
     "name": "stdout",
     "output_type": "stream",
     "text": [
      "torch.Size([32, 1, 1024]) torch.Size([32])\n"
     ]
    },
    {
     "data": {
      "text/plain": [
       "({'input_ids': tensor([[[  101,  9590,  7559,  ...,     0,     0,     0]],\n",
       "  \n",
       "          [[  101,  4186,  5081,  ...,     0,     0,     0]],\n",
       "  \n",
       "          [[  101, 11006,  4520,  ...,     0,     0,     0]],\n",
       "  \n",
       "          ...,\n",
       "  \n",
       "          [[  101,  4517,  2303,  ...,     0,     0,     0]],\n",
       "  \n",
       "          [[  101,  9106, 10768,  ...,     0,     0,     0]],\n",
       "  \n",
       "          [[  101,  7206, 19311,  ...,     0,     0,     0]]]),\n",
       "  'token_type_ids': tensor([[[0, 0, 0,  ..., 0, 0, 0]],\n",
       "  \n",
       "          [[0, 0, 0,  ..., 0, 0, 0]],\n",
       "  \n",
       "          [[0, 0, 0,  ..., 0, 0, 0]],\n",
       "  \n",
       "          ...,\n",
       "  \n",
       "          [[0, 0, 0,  ..., 0, 0, 0]],\n",
       "  \n",
       "          [[0, 0, 0,  ..., 0, 0, 0]],\n",
       "  \n",
       "          [[0, 0, 0,  ..., 0, 0, 0]]]),\n",
       "  'attention_mask': tensor([[[1, 1, 1,  ..., 0, 0, 0]],\n",
       "  \n",
       "          [[1, 1, 1,  ..., 0, 0, 0]],\n",
       "  \n",
       "          [[1, 1, 1,  ..., 0, 0, 0]],\n",
       "  \n",
       "          ...,\n",
       "  \n",
       "          [[1, 1, 1,  ..., 0, 0, 0]],\n",
       "  \n",
       "          [[1, 1, 1,  ..., 0, 0, 0]],\n",
       "  \n",
       "          [[1, 1, 1,  ..., 0, 0, 0]]])},\n",
       " tensor([1, 3, 3, 1, 3, 3, 0, 3, 1, 1, 0, 3, 0, 4, 3, 1, 0, 1, 4, 2, 3, 3, 4, 2,\n",
       "         3, 0, 1, 4, 3, 4, 3, 4], dtype=torch.int32))"
      ]
     },
     "execution_count": 13,
     "metadata": {},
     "output_type": "execute_result"
    }
   ],
   "source": [
    "test_iter = iter(test_dataloader)\n",
    "\n",
    "X, y = test_iter.next()\n",
    "print(X['input_ids'].shape, y.shape)\n",
    "X, y"
   ]
  },
  {
   "cell_type": "code",
   "execution_count": 14,
   "id": "cd9256de",
   "metadata": {},
   "outputs": [
    {
     "name": "stdout",
     "output_type": "stream",
     "text": [
      "torch.Size([32, 1, 1024]) torch.Size([32])\n"
     ]
    },
    {
     "data": {
      "text/plain": [
       "({'input_ids': tensor([[[  101,  1047, 24412,  ...,     0,     0,     0]],\n",
       "  \n",
       "          [[  101, 11865,  6562,  ...,     0,     0,     0]],\n",
       "  \n",
       "          [[  101,  2149, 21358,  ...,     0,     0,     0]],\n",
       "  \n",
       "          ...,\n",
       "  \n",
       "          [[  101,  2634,  2373,  ...,     0,     0,     0]],\n",
       "  \n",
       "          [[  101,  1056,  1011,  ...,     0,     0,     0]],\n",
       "  \n",
       "          [[  101,  8675, 23102,  ...,     0,     0,     0]]]),\n",
       "  'token_type_ids': tensor([[[0, 0, 0,  ..., 0, 0, 0]],\n",
       "  \n",
       "          [[0, 0, 0,  ..., 0, 0, 0]],\n",
       "  \n",
       "          [[0, 0, 0,  ..., 0, 0, 0]],\n",
       "  \n",
       "          ...,\n",
       "  \n",
       "          [[0, 0, 0,  ..., 0, 0, 0]],\n",
       "  \n",
       "          [[0, 0, 0,  ..., 0, 0, 0]],\n",
       "  \n",
       "          [[0, 0, 0,  ..., 0, 0, 0]]]),\n",
       "  'attention_mask': tensor([[[1, 1, 1,  ..., 0, 0, 0]],\n",
       "  \n",
       "          [[1, 1, 1,  ..., 0, 0, 0]],\n",
       "  \n",
       "          [[1, 1, 1,  ..., 0, 0, 0]],\n",
       "  \n",
       "          ...,\n",
       "  \n",
       "          [[1, 1, 1,  ..., 0, 0, 0]],\n",
       "  \n",
       "          [[1, 1, 1,  ..., 0, 0, 0]],\n",
       "  \n",
       "          [[1, 1, 1,  ..., 0, 0, 0]]])},\n",
       " tensor([3, 3, 1, 2, 0, 0, 1, 0, 4, 0, 4, 0, 3, 0, 0, 2, 2, 2, 0, 2, 2, 0, 2, 0,\n",
       "         3, 3, 4, 4, 4, 0, 4, 0], dtype=torch.int32))"
      ]
     },
     "execution_count": 14,
     "metadata": {},
     "output_type": "execute_result"
    }
   ],
   "source": [
    "X, y = test_iter.next()\n",
    "print(X['input_ids'].shape, y.shape)\n",
    "X, y"
   ]
  },
  {
   "cell_type": "code",
   "execution_count": null,
   "id": "e19d56b5",
   "metadata": {},
   "outputs": [],
   "source": []
  }
 ],
 "metadata": {
  "kernelspec": {
   "display_name": "Python 3 (ipykernel)",
   "language": "python",
   "name": "python3"
  },
  "language_info": {
   "codemirror_mode": {
    "name": "ipython",
    "version": 3
   },
   "file_extension": ".py",
   "mimetype": "text/x-python",
   "name": "python",
   "nbconvert_exporter": "python",
   "pygments_lexer": "ipython3",
   "version": "3.8.8"
  }
 },
 "nbformat": 4,
 "nbformat_minor": 5
}
